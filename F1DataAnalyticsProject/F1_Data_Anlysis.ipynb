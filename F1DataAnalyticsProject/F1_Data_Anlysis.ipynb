{
 "cells": [
  {
   "cell_type": "markdown",
   "id": "34027541-87fa-4e40-89b7-d61a1ed8f6d4",
   "metadata": {},
   "source": [
    "<h1>F1 Data Analysis - Potfolio project</h1><br>\n"
   ]
  },
  {
   "cell_type": "code",
   "execution_count": 6,
   "id": "b0bf894e-c554-4ebe-b7ce-8cab266eeae8",
   "metadata": {},
   "outputs": [
    {
     "name": "stdout",
     "output_type": "stream",
     "text": [
      "     statusId          status\n",
      "0           1        Finished\n",
      "1           2    Disqualified\n",
      "2           3        Accident\n",
      "3           4       Collision\n",
      "4           5          Engine\n",
      "..        ...             ...\n",
      "134       137          Damage\n",
      "135       138          Debris\n",
      "136       139         Illness\n",
      "137       140       Undertray\n",
      "138       141  Cooling system\n",
      "\n",
      "[139 rows x 2 columns]\n"
     ]
    },
    {
     "data": {
      "text/html": [
       "<div>\n",
       "<style scoped>\n",
       "    .dataframe tbody tr th:only-of-type {\n",
       "        vertical-align: middle;\n",
       "    }\n",
       "\n",
       "    .dataframe tbody tr th {\n",
       "        vertical-align: top;\n",
       "    }\n",
       "\n",
       "    .dataframe thead th {\n",
       "        text-align: right;\n",
       "    }\n",
       "</style>\n",
       "<table border=\"1\" class=\"dataframe\">\n",
       "  <thead>\n",
       "    <tr style=\"text-align: right;\">\n",
       "      <th></th>\n",
       "      <th>statusId</th>\n",
       "      <th>status</th>\n",
       "    </tr>\n",
       "  </thead>\n",
       "  <tbody>\n",
       "    <tr>\n",
       "      <th>0</th>\n",
       "      <td>1</td>\n",
       "      <td>Finished</td>\n",
       "    </tr>\n",
       "    <tr>\n",
       "      <th>1</th>\n",
       "      <td>2</td>\n",
       "      <td>Disqualified</td>\n",
       "    </tr>\n",
       "    <tr>\n",
       "      <th>2</th>\n",
       "      <td>3</td>\n",
       "      <td>Accident</td>\n",
       "    </tr>\n",
       "    <tr>\n",
       "      <th>3</th>\n",
       "      <td>4</td>\n",
       "      <td>Collision</td>\n",
       "    </tr>\n",
       "    <tr>\n",
       "      <th>4</th>\n",
       "      <td>5</td>\n",
       "      <td>Engine</td>\n",
       "    </tr>\n",
       "  </tbody>\n",
       "</table>\n",
       "</div>"
      ],
      "text/plain": [
       "   statusId        status\n",
       "0         1      Finished\n",
       "1         2  Disqualified\n",
       "2         3      Accident\n",
       "3         4     Collision\n",
       "4         5        Engine"
      ]
     },
     "execution_count": 6,
     "metadata": {},
     "output_type": "execute_result"
    }
   ],
   "source": [
    "import numpy as np\n",
    "import pandas as pa\n",
    "import seaborn as sea\n",
    "\n",
    "circuits = pa.read_csv(\"circuits.csv\")\n",
    "circuits = pa.read_csv(\"constructor_results.csv\")\n",
    "circuits = pa.read_csv(\"constructor_standings.csv\")\n",
    "circuits = pa.read_csv(\"constructors.csv\")\n",
    "circuits = pa.read_csv(\"driver_standings.csv\")\n",
    "circuits = pa.read_csv(\"drivers.csv\")\n",
    "circuits = pa.read_csv(\"lap_times.csv\")\n",
    "circuits = pa.read_csv(\"pit_stops.csv\")\n",
    "circuits = pa.read_csv(\"qualifying.csv\")\n",
    "circuits = pa.read_csv(\"races.csv\")\n",
    "circuits = pa.read_csv(\"results.csv\")\n",
    "circuits = pa.read_csv(\"seasons.csv\")\n",
    "circuits = pa.read_csv(\"sprint_results.csv\")\n",
    "circuits = pa.read_csv(\"status.csv\")\n",
    "\n",
    "\n",
    "print(circuits)\n",
    "\n",
    "circuits.head()"
   ]
  },
  {
   "cell_type": "code",
   "execution_count": null,
   "id": "baab7129-5c7e-4532-8beb-9c2bd87570ff",
   "metadata": {},
   "outputs": [],
   "source": []
  },
  {
   "cell_type": "code",
   "execution_count": null,
   "id": "9846c344-b567-4a89-bc88-bda3fcee70c1",
   "metadata": {},
   "outputs": [],
   "source": []
  }
 ],
 "metadata": {
  "kernelspec": {
   "display_name": "Python 3 (ipykernel)",
   "language": "python",
   "name": "python3"
  },
  "language_info": {
   "codemirror_mode": {
    "name": "ipython",
    "version": 3
   },
   "file_extension": ".py",
   "mimetype": "text/x-python",
   "name": "python",
   "nbconvert_exporter": "python",
   "pygments_lexer": "ipython3",
   "version": "3.12.4"
  }
 },
 "nbformat": 4,
 "nbformat_minor": 5
}
